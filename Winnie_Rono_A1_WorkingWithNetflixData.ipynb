{
 "cells": [
  {
   "cell_type": "code",
   "execution_count": 1,
   "id": "e245c721-722b-4fbb-863d-473b899d8063",
   "metadata": {},
   "outputs": [],
   "source": [
    "import pandas as pd"
   ]
  },
  {
   "cell_type": "code",
   "execution_count": 3,
   "id": "8febc571-85bd-4e44-a4a0-94e2bae53eeb",
   "metadata": {},
   "outputs": [],
   "source": [
    "netflix_data = pd.read_csv(r\"C:\\Users\\user\\Downloads\\NetflixViewingHistory.csv\")"
   ]
  },
  {
   "cell_type": "code",
   "execution_count": 4,
   "id": "a6d09f9e-c409-4ae6-929d-c0250810aa48",
   "metadata": {},
   "outputs": [
    {
     "data": {
      "text/html": [
       "<div>\n",
       "<style scoped>\n",
       "    .dataframe tbody tr th:only-of-type {\n",
       "        vertical-align: middle;\n",
       "    }\n",
       "\n",
       "    .dataframe tbody tr th {\n",
       "        vertical-align: top;\n",
       "    }\n",
       "\n",
       "    .dataframe thead th {\n",
       "        text-align: right;\n",
       "    }\n",
       "</style>\n",
       "<table border=\"1\" class=\"dataframe\">\n",
       "  <thead>\n",
       "    <tr style=\"text-align: right;\">\n",
       "      <th></th>\n",
       "      <th>Title</th>\n",
       "      <th>Date</th>\n",
       "    </tr>\n",
       "  </thead>\n",
       "  <tbody>\n",
       "    <tr>\n",
       "      <th>0</th>\n",
       "      <td>Russian Doll: Season 2: Station to Station</td>\n",
       "      <td>5/4/22</td>\n",
       "    </tr>\n",
       "    <tr>\n",
       "      <th>1</th>\n",
       "      <td>Russian Doll: Season 2: Brain Drain</td>\n",
       "      <td>5/3/22</td>\n",
       "    </tr>\n",
       "    <tr>\n",
       "      <th>2</th>\n",
       "      <td>Russian Doll: Season 2: Coney Island Baby</td>\n",
       "      <td>4/26/22</td>\n",
       "    </tr>\n",
       "    <tr>\n",
       "      <th>3</th>\n",
       "      <td>Russian Doll: Season 2: Nowhen</td>\n",
       "      <td>4/26/22</td>\n",
       "    </tr>\n",
       "    <tr>\n",
       "      <th>4</th>\n",
       "      <td>Eternally Confused and Eager for Love: Season ...</td>\n",
       "      <td>4/10/22</td>\n",
       "    </tr>\n",
       "    <tr>\n",
       "      <th>...</th>\n",
       "      <td>...</td>\n",
       "      <td>...</td>\n",
       "    </tr>\n",
       "    <tr>\n",
       "      <th>1967</th>\n",
       "      <td>The OA: Part I: Chapter 4: Away</td>\n",
       "      <td>12/22/16</td>\n",
       "    </tr>\n",
       "    <tr>\n",
       "      <th>1968</th>\n",
       "      <td>The OA: Part I: Chapter 3: Champion</td>\n",
       "      <td>12/22/16</td>\n",
       "    </tr>\n",
       "    <tr>\n",
       "      <th>1969</th>\n",
       "      <td>The OA: Part I: Chapter 2: New Colossus</td>\n",
       "      <td>12/22/16</td>\n",
       "    </tr>\n",
       "    <tr>\n",
       "      <th>1970</th>\n",
       "      <td>The OA: Part I: Chapter 1: Homecoming</td>\n",
       "      <td>12/22/16</td>\n",
       "    </tr>\n",
       "    <tr>\n",
       "      <th>1971</th>\n",
       "      <td>The Imitation Game</td>\n",
       "      <td>12/21/16</td>\n",
       "    </tr>\n",
       "  </tbody>\n",
       "</table>\n",
       "<p>1972 rows × 2 columns</p>\n",
       "</div>"
      ],
      "text/plain": [
       "                                                  Title      Date\n",
       "0            Russian Doll: Season 2: Station to Station    5/4/22\n",
       "1                   Russian Doll: Season 2: Brain Drain    5/3/22\n",
       "2             Russian Doll: Season 2: Coney Island Baby   4/26/22\n",
       "3                        Russian Doll: Season 2: Nowhen   4/26/22\n",
       "4     Eternally Confused and Eager for Love: Season ...   4/10/22\n",
       "...                                                 ...       ...\n",
       "1967                    The OA: Part I: Chapter 4: Away  12/22/16\n",
       "1968                The OA: Part I: Chapter 3: Champion  12/22/16\n",
       "1969            The OA: Part I: Chapter 2: New Colossus  12/22/16\n",
       "1970              The OA: Part I: Chapter 1: Homecoming  12/22/16\n",
       "1971                                 The Imitation Game  12/21/16\n",
       "\n",
       "[1972 rows x 2 columns]"
      ]
     },
     "execution_count": 4,
     "metadata": {},
     "output_type": "execute_result"
    }
   ],
   "source": [
    "netflix_data"
   ]
  },
  {
   "cell_type": "code",
   "execution_count": 18,
   "id": "f3d7c894-0df9-464d-af92-a4d00a289f26",
   "metadata": {},
   "outputs": [
    {
     "name": "stdout",
     "output_type": "stream",
     "text": [
      "                                               Title     Date\n",
      "0         Russian Doll: Season 2: Station to Station   5/4/22\n",
      "1                Russian Doll: Season 2: Brain Drain   5/3/22\n",
      "2          Russian Doll: Season 2: Coney Island Baby  4/26/22\n",
      "3                     Russian Doll: Season 2: Nowhen  4/26/22\n",
      "4  Eternally Confused and Eager for Love: Season ...  4/10/22\n"
     ]
    }
   ],
   "source": [
    "print (netflix_data.head())"
   ]
  },
  {
   "cell_type": "code",
   "execution_count": 5,
   "id": "e7ea8e35-26a1-411c-9b95-3b8aef62c884",
   "metadata": {},
   "outputs": [
    {
     "data": {
      "text/plain": [
       "1972"
      ]
     },
     "execution_count": 5,
     "metadata": {},
     "output_type": "execute_result"
    }
   ],
   "source": [
    "len(netflix_data)"
   ]
  },
  {
   "cell_type": "code",
   "execution_count": 6,
   "id": "75107bf6-8fd4-4ae9-8d6e-e4b6f14cad64",
   "metadata": {},
   "outputs": [
    {
     "data": {
      "text/plain": [
       "2"
      ]
     },
     "execution_count": 6,
     "metadata": {},
     "output_type": "execute_result"
    }
   ],
   "source": [
    "netflix_data.shape[1]"
   ]
  },
  {
   "cell_type": "code",
   "execution_count": 7,
   "id": "a335c20e-cb89-40cd-9659-69195f603bd5",
   "metadata": {},
   "outputs": [
    {
     "data": {
      "text/plain": [
       "0              Russian Doll: Season 2: Station to Station\n",
       "1                     Russian Doll: Season 2: Brain Drain\n",
       "2               Russian Doll: Season 2: Coney Island Baby\n",
       "3                          Russian Doll: Season 2: Nowhen\n",
       "4       Eternally Confused and Eager for Love: Season ...\n",
       "                              ...                        \n",
       "1967                      The OA: Part I: Chapter 4: Away\n",
       "1968                  The OA: Part I: Chapter 3: Champion\n",
       "1969              The OA: Part I: Chapter 2: New Colossus\n",
       "1970                The OA: Part I: Chapter 1: Homecoming\n",
       "1971                                   The Imitation Game\n",
       "Name: Title, Length: 1972, dtype: object"
      ]
     },
     "execution_count": 7,
     "metadata": {},
     "output_type": "execute_result"
    }
   ],
   "source": [
    "netflix_data[\"Title\"]"
   ]
  },
  {
   "cell_type": "code",
   "execution_count": 8,
   "id": "43233cf0-62c7-4f47-915f-f79aa1fbc538",
   "metadata": {},
   "outputs": [
    {
     "data": {
      "text/plain": [
       "0       False\n",
       "1       False\n",
       "2       False\n",
       "3       False\n",
       "4       False\n",
       "        ...  \n",
       "1967    False\n",
       "1968    False\n",
       "1969    False\n",
       "1970    False\n",
       "1971    False\n",
       "Name: Title, Length: 1972, dtype: bool"
      ]
     },
     "execution_count": 8,
     "metadata": {},
     "output_type": "execute_result"
    }
   ],
   "source": [
    "netflix_data[\"Title\"].apply(lambda title: \"Designated Survivor\" in title)"
   ]
  },
  {
   "cell_type": "code",
   "execution_count": 10,
   "id": "764b1df1-bbd5-4095-9050-e007fdd00257",
   "metadata": {},
   "outputs": [
    {
     "data": {
      "text/plain": [
       "10"
      ]
     },
     "execution_count": 10,
     "metadata": {},
     "output_type": "execute_result"
    }
   ],
   "source": [
    "#How many times was an episode of the show Designated Survivor watched according to the data?\n",
    "netflix_data[\"Title\"].apply(lambda title: \"Designated Survivor\" in title).sum()"
   ]
  },
  {
   "cell_type": "code",
   "execution_count": 11,
   "id": "100cc37a-6e37-463c-8e06-a4ec044d0a2f",
   "metadata": {},
   "outputs": [
    {
     "data": {
      "text/plain": [
       "0       False\n",
       "1       False\n",
       "2       False\n",
       "3       False\n",
       "4       False\n",
       "        ...  \n",
       "1967    False\n",
       "1968    False\n",
       "1969    False\n",
       "1970    False\n",
       "1971    False\n",
       "Name: Title, Length: 1972, dtype: bool"
      ]
     },
     "execution_count": 11,
     "metadata": {},
     "output_type": "execute_result"
    }
   ],
   "source": [
    "netflix_data[\"Title\"].apply(lambda title: \"Bridgerton\" in title)"
   ]
  },
  {
   "cell_type": "code",
   "execution_count": 12,
   "id": "722efe50-9b8c-451f-90ac-c22702b16e84",
   "metadata": {},
   "outputs": [
    {
     "data": {
      "text/plain": [
       "16"
      ]
     },
     "execution_count": 12,
     "metadata": {},
     "output_type": "execute_result"
    }
   ],
   "source": [
    "sum(netflix_data[\"Title\"].apply(lambda title: \"Bridgerton\" in title))"
   ]
  },
  {
   "cell_type": "code",
   "execution_count": 16,
   "id": "61ad1cf0-558a-4da8-9a25-e4eac52de306",
   "metadata": {},
   "outputs": [
    {
     "data": {
      "text/html": [
       "<div>\n",
       "<style scoped>\n",
       "    .dataframe tbody tr th:only-of-type {\n",
       "        vertical-align: middle;\n",
       "    }\n",
       "\n",
       "    .dataframe tbody tr th {\n",
       "        vertical-align: top;\n",
       "    }\n",
       "\n",
       "    .dataframe thead th {\n",
       "        text-align: right;\n",
       "    }\n",
       "</style>\n",
       "<table border=\"1\" class=\"dataframe\">\n",
       "  <thead>\n",
       "    <tr style=\"text-align: right;\">\n",
       "      <th></th>\n",
       "      <th>Title</th>\n",
       "      <th>Date</th>\n",
       "    </tr>\n",
       "  </thead>\n",
       "  <tbody>\n",
       "    <tr>\n",
       "      <th>8</th>\n",
       "      <td>Bridgerton: Season 2: The Viscount Who Loved Me</td>\n",
       "      <td>4/4/22</td>\n",
       "    </tr>\n",
       "    <tr>\n",
       "      <th>9</th>\n",
       "      <td>Bridgerton: Season 2: Harmony</td>\n",
       "      <td>4/3/22</td>\n",
       "    </tr>\n",
       "    <tr>\n",
       "      <th>10</th>\n",
       "      <td>Bridgerton: Season 2: The Choice</td>\n",
       "      <td>4/2/22</td>\n",
       "    </tr>\n",
       "    <tr>\n",
       "      <th>11</th>\n",
       "      <td>Bridgerton: Season 2: An Unthinkable Fate</td>\n",
       "      <td>3/31/22</td>\n",
       "    </tr>\n",
       "    <tr>\n",
       "      <th>12</th>\n",
       "      <td>Bridgerton: Season 2: Victory</td>\n",
       "      <td>3/31/22</td>\n",
       "    </tr>\n",
       "    <tr>\n",
       "      <th>13</th>\n",
       "      <td>Bridgerton: Season 2: A Bee in Your Bonnet</td>\n",
       "      <td>3/30/22</td>\n",
       "    </tr>\n",
       "    <tr>\n",
       "      <th>14</th>\n",
       "      <td>Bridgerton: Season 2: Off to the Races</td>\n",
       "      <td>3/30/22</td>\n",
       "    </tr>\n",
       "    <tr>\n",
       "      <th>15</th>\n",
       "      <td>Bridgerton: Season 2: Capital R Rake</td>\n",
       "      <td>3/26/22</td>\n",
       "    </tr>\n",
       "    <tr>\n",
       "      <th>409</th>\n",
       "      <td>Bridgerton: Season 1: After the Rain</td>\n",
       "      <td>1/9/21</td>\n",
       "    </tr>\n",
       "    <tr>\n",
       "      <th>410</th>\n",
       "      <td>Bridgerton: Season 1: Oceans Apart</td>\n",
       "      <td>1/9/21</td>\n",
       "    </tr>\n",
       "    <tr>\n",
       "      <th>411</th>\n",
       "      <td>Bridgerton: Season 1: Swish</td>\n",
       "      <td>1/9/21</td>\n",
       "    </tr>\n",
       "    <tr>\n",
       "      <th>412</th>\n",
       "      <td>Bridgerton: Season 1: The Duke and I</td>\n",
       "      <td>1/9/21</td>\n",
       "    </tr>\n",
       "    <tr>\n",
       "      <th>413</th>\n",
       "      <td>Bridgerton: Season 1: An Affair of Honor</td>\n",
       "      <td>1/8/21</td>\n",
       "    </tr>\n",
       "    <tr>\n",
       "      <th>414</th>\n",
       "      <td>Bridgerton: Season 1: Art of the Swoon</td>\n",
       "      <td>1/8/21</td>\n",
       "    </tr>\n",
       "    <tr>\n",
       "      <th>415</th>\n",
       "      <td>Bridgerton: Season 1: Shock and Delight</td>\n",
       "      <td>1/8/21</td>\n",
       "    </tr>\n",
       "    <tr>\n",
       "      <th>416</th>\n",
       "      <td>Bridgerton: Season 1: Diamond of the First Water</td>\n",
       "      <td>1/8/21</td>\n",
       "    </tr>\n",
       "  </tbody>\n",
       "</table>\n",
       "</div>"
      ],
      "text/plain": [
       "                                                Title     Date\n",
       "8     Bridgerton: Season 2: The Viscount Who Loved Me   4/4/22\n",
       "9                       Bridgerton: Season 2: Harmony   4/3/22\n",
       "10                   Bridgerton: Season 2: The Choice   4/2/22\n",
       "11          Bridgerton: Season 2: An Unthinkable Fate  3/31/22\n",
       "12                      Bridgerton: Season 2: Victory  3/31/22\n",
       "13         Bridgerton: Season 2: A Bee in Your Bonnet  3/30/22\n",
       "14             Bridgerton: Season 2: Off to the Races  3/30/22\n",
       "15               Bridgerton: Season 2: Capital R Rake  3/26/22\n",
       "409              Bridgerton: Season 1: After the Rain   1/9/21\n",
       "410                Bridgerton: Season 1: Oceans Apart   1/9/21\n",
       "411                       Bridgerton: Season 1: Swish   1/9/21\n",
       "412              Bridgerton: Season 1: The Duke and I   1/9/21\n",
       "413          Bridgerton: Season 1: An Affair of Honor   1/8/21\n",
       "414            Bridgerton: Season 1: Art of the Swoon   1/8/21\n",
       "415           Bridgerton: Season 1: Shock and Delight   1/8/21\n",
       "416  Bridgerton: Season 1: Diamond of the First Water   1/8/21"
      ]
     },
     "execution_count": 16,
     "metadata": {},
     "output_type": "execute_result"
    }
   ],
   "source": [
    "netflix_data.loc[[\"Bridgerton\" in title for title in netflix_data [\"Title\"]], :]"
   ]
  },
  {
   "cell_type": "code",
   "execution_count": 19,
   "id": "ec56b382-ddae-479e-943d-d8378c32bd00",
   "metadata": {},
   "outputs": [
    {
     "data": {
      "text/plain": [
       "8       Bridgerton: Season 2: The Viscount Who Loved Me\n",
       "9                         Bridgerton: Season 2: Harmony\n",
       "10                     Bridgerton: Season 2: The Choice\n",
       "11            Bridgerton: Season 2: An Unthinkable Fate\n",
       "12                        Bridgerton: Season 2: Victory\n",
       "13           Bridgerton: Season 2: A Bee in Your Bonnet\n",
       "14               Bridgerton: Season 2: Off to the Races\n",
       "15                 Bridgerton: Season 2: Capital R Rake\n",
       "409                Bridgerton: Season 1: After the Rain\n",
       "410                  Bridgerton: Season 1: Oceans Apart\n",
       "411                         Bridgerton: Season 1: Swish\n",
       "412                Bridgerton: Season 1: The Duke and I\n",
       "413            Bridgerton: Season 1: An Affair of Honor\n",
       "414              Bridgerton: Season 1: Art of the Swoon\n",
       "415             Bridgerton: Season 1: Shock and Delight\n",
       "416    Bridgerton: Season 1: Diamond of the First Water\n",
       "Name: Title, dtype: object"
      ]
     },
     "execution_count": 19,
     "metadata": {},
     "output_type": "execute_result"
    }
   ],
   "source": [
    "netflix_data.loc[[\"Bridgerton\" in title for title in netflix_data[\"Title\"]], \"Title\"]"
   ]
  },
  {
   "cell_type": "code",
   "execution_count": 20,
   "id": "a83afbc0-b99b-47db-a439-0db102d02a26",
   "metadata": {},
   "outputs": [
    {
     "data": {
      "text/html": [
       "<div>\n",
       "<style scoped>\n",
       "    .dataframe tbody tr th:only-of-type {\n",
       "        vertical-align: middle;\n",
       "    }\n",
       "\n",
       "    .dataframe tbody tr th {\n",
       "        vertical-align: top;\n",
       "    }\n",
       "\n",
       "    .dataframe thead th {\n",
       "        text-align: right;\n",
       "    }\n",
       "</style>\n",
       "<table border=\"1\" class=\"dataframe\">\n",
       "  <thead>\n",
       "    <tr style=\"text-align: right;\">\n",
       "      <th></th>\n",
       "      <th>Title</th>\n",
       "      <th>Date</th>\n",
       "    </tr>\n",
       "  </thead>\n",
       "  <tbody>\n",
       "    <tr>\n",
       "      <th>8</th>\n",
       "      <td>Bridgerton: Season 2: The Viscount Who Loved Me</td>\n",
       "      <td>4/4/22</td>\n",
       "    </tr>\n",
       "    <tr>\n",
       "      <th>9</th>\n",
       "      <td>Bridgerton: Season 2: Harmony</td>\n",
       "      <td>4/3/22</td>\n",
       "    </tr>\n",
       "    <tr>\n",
       "      <th>10</th>\n",
       "      <td>Bridgerton: Season 2: The Choice</td>\n",
       "      <td>4/2/22</td>\n",
       "    </tr>\n",
       "    <tr>\n",
       "      <th>11</th>\n",
       "      <td>Bridgerton: Season 2: An Unthinkable Fate</td>\n",
       "      <td>3/31/22</td>\n",
       "    </tr>\n",
       "    <tr>\n",
       "      <th>12</th>\n",
       "      <td>Bridgerton: Season 2: Victory</td>\n",
       "      <td>3/31/22</td>\n",
       "    </tr>\n",
       "    <tr>\n",
       "      <th>13</th>\n",
       "      <td>Bridgerton: Season 2: A Bee in Your Bonnet</td>\n",
       "      <td>3/30/22</td>\n",
       "    </tr>\n",
       "    <tr>\n",
       "      <th>14</th>\n",
       "      <td>Bridgerton: Season 2: Off to the Races</td>\n",
       "      <td>3/30/22</td>\n",
       "    </tr>\n",
       "    <tr>\n",
       "      <th>15</th>\n",
       "      <td>Bridgerton: Season 2: Capital R Rake</td>\n",
       "      <td>3/26/22</td>\n",
       "    </tr>\n",
       "    <tr>\n",
       "      <th>409</th>\n",
       "      <td>Bridgerton: Season 1: After the Rain</td>\n",
       "      <td>1/9/21</td>\n",
       "    </tr>\n",
       "    <tr>\n",
       "      <th>410</th>\n",
       "      <td>Bridgerton: Season 1: Oceans Apart</td>\n",
       "      <td>1/9/21</td>\n",
       "    </tr>\n",
       "    <tr>\n",
       "      <th>411</th>\n",
       "      <td>Bridgerton: Season 1: Swish</td>\n",
       "      <td>1/9/21</td>\n",
       "    </tr>\n",
       "    <tr>\n",
       "      <th>412</th>\n",
       "      <td>Bridgerton: Season 1: The Duke and I</td>\n",
       "      <td>1/9/21</td>\n",
       "    </tr>\n",
       "    <tr>\n",
       "      <th>413</th>\n",
       "      <td>Bridgerton: Season 1: An Affair of Honor</td>\n",
       "      <td>1/8/21</td>\n",
       "    </tr>\n",
       "    <tr>\n",
       "      <th>414</th>\n",
       "      <td>Bridgerton: Season 1: Art of the Swoon</td>\n",
       "      <td>1/8/21</td>\n",
       "    </tr>\n",
       "    <tr>\n",
       "      <th>415</th>\n",
       "      <td>Bridgerton: Season 1: Shock and Delight</td>\n",
       "      <td>1/8/21</td>\n",
       "    </tr>\n",
       "    <tr>\n",
       "      <th>416</th>\n",
       "      <td>Bridgerton: Season 1: Diamond of the First Water</td>\n",
       "      <td>1/8/21</td>\n",
       "    </tr>\n",
       "  </tbody>\n",
       "</table>\n",
       "</div>"
      ],
      "text/plain": [
       "                                                Title     Date\n",
       "8     Bridgerton: Season 2: The Viscount Who Loved Me   4/4/22\n",
       "9                       Bridgerton: Season 2: Harmony   4/3/22\n",
       "10                   Bridgerton: Season 2: The Choice   4/2/22\n",
       "11          Bridgerton: Season 2: An Unthinkable Fate  3/31/22\n",
       "12                      Bridgerton: Season 2: Victory  3/31/22\n",
       "13         Bridgerton: Season 2: A Bee in Your Bonnet  3/30/22\n",
       "14             Bridgerton: Season 2: Off to the Races  3/30/22\n",
       "15               Bridgerton: Season 2: Capital R Rake  3/26/22\n",
       "409              Bridgerton: Season 1: After the Rain   1/9/21\n",
       "410                Bridgerton: Season 1: Oceans Apart   1/9/21\n",
       "411                       Bridgerton: Season 1: Swish   1/9/21\n",
       "412              Bridgerton: Season 1: The Duke and I   1/9/21\n",
       "413          Bridgerton: Season 1: An Affair of Honor   1/8/21\n",
       "414            Bridgerton: Season 1: Art of the Swoon   1/8/21\n",
       "415           Bridgerton: Season 1: Shock and Delight   1/8/21\n",
       "416  Bridgerton: Season 1: Diamond of the First Water   1/8/21"
      ]
     },
     "execution_count": 20,
     "metadata": {},
     "output_type": "execute_result"
    }
   ],
   "source": [
    "netflix_data.loc[[\"Bridgerton\" in title for title in netflix_data[\"Title\"]], :].sort_values(\"Date\", ascending=False)"
   ]
  },
  {
   "cell_type": "code",
   "execution_count": 21,
   "id": "2e239925-380b-44be-9b57-d2dbc7b6a7bf",
   "metadata": {},
   "outputs": [
    {
     "data": {
      "text/plain": [
       "'4/4/22'"
      ]
     },
     "execution_count": 21,
     "metadata": {},
     "output_type": "execute_result"
    }
   ],
   "source": [
    "#When was the last date of watching the show Bridgerton according to the data?\n",
    "netflix_data.loc[[\"Bridgerton\" in title for title in netflix_data[\"Title\"]], :].sort_values(\"Date\", ascending=False)[\"Date\"].iloc[0]"
   ]
  },
  {
   "cell_type": "code",
   "execution_count": 29,
   "id": "14a1a446-355a-4a78-a321-4891c6673549",
   "metadata": {},
   "outputs": [
    {
     "data": {
      "text/plain": [
       "'1/8/21'"
      ]
     },
     "execution_count": 29,
     "metadata": {},
     "output_type": "execute_result"
    }
   ],
   "source": [
    "#When was the starting date of watching the show Bridgerton according to the data?\n",
    "netflix_data.loc[[\"Bridgerton\" in title for title in netflix_data[\"Title\"]], :].sort_values(\"Date\",ascending=True )[\"Date\"].iloc[0]"
   ]
  },
  {
   "cell_type": "code",
   "execution_count": 30,
   "id": "42704e06-c372-41ef-a9c5-5ecb1ec7aef6",
   "metadata": {},
   "outputs": [
    {
     "data": {
      "text/plain": [
       "'Bridgerton: Season 2: The Viscount Who Loved Me'"
      ]
     },
     "execution_count": 30,
     "metadata": {},
     "output_type": "execute_result"
    }
   ],
   "source": [
    "#What is the title of the last episode of the show Bridgerton watched according to the data?\n",
    "netflix_data.loc[[\"Bridgerton\" in title for title in netflix_data[\"Title\"]], :].sort_values(\"Date\", ascending=False)[\"Title\"].iloc[0]\n"
   ]
  },
  {
   "cell_type": "code",
   "execution_count": 31,
   "id": "582f3e07-1cc0-47f5-8a22-1f7f980e80a4",
   "metadata": {},
   "outputs": [
    {
     "data": {
      "text/plain": [
       "'Bridgerton: Season 1: An Affair of Honor'"
      ]
     },
     "execution_count": 31,
     "metadata": {},
     "output_type": "execute_result"
    }
   ],
   "source": [
    "#What is the title of the first episode of the show Bridgerton watched according to the data?\n",
    "netflix_data.loc[[\"Bridgerton\" in title for title in netflix_data[\"Title\"]], :].sort_values(\"Date\", ascending=True)[\"Title\"].iloc[0]\n"
   ]
  }
 ],
 "metadata": {
  "kernelspec": {
   "display_name": "Python 3 (ipykernel)",
   "language": "python",
   "name": "python3"
  },
  "language_info": {
   "codemirror_mode": {
    "name": "ipython",
    "version": 3
   },
   "file_extension": ".py",
   "mimetype": "text/x-python",
   "name": "python",
   "nbconvert_exporter": "python",
   "pygments_lexer": "ipython3",
   "version": "3.9.7"
  }
 },
 "nbformat": 4,
 "nbformat_minor": 5
}
